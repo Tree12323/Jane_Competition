{
 "cells": [
  {
   "cell_type": "code",
   "execution_count": 1,
   "id": "synthetic-jerusalem",
   "metadata": {},
   "outputs": [
    {
     "data": {
      "text/html": [
       "<style type='text/css'>\n",
       ".datatable table.frame { margin-bottom: 0; }\n",
       ".datatable table.frame thead { border-bottom: none; }\n",
       ".datatable table.frame tr.coltypes td {  color: #FFFFFF;  line-height: 6px;  padding: 0 0.5em;}\n",
       ".datatable .bool    { background: #DDDD99; }\n",
       ".datatable .object  { background: #565656; }\n",
       ".datatable .int     { background: #5D9E5D; }\n",
       ".datatable .float   { background: #4040CC; }\n",
       ".datatable .str     { background: #CC4040; }\n",
       ".datatable .row_index {  background: var(--jp-border-color3);  border-right: 1px solid var(--jp-border-color0);  color: var(--jp-ui-font-color3);  font-size: 9px;}\n",
       ".datatable .frame tr.coltypes .row_index {  background: var(--jp-border-color0);}\n",
       ".datatable th:nth-child(2) { padding-left: 12px; }\n",
       ".datatable .hellipsis {  color: var(--jp-cell-editor-border-color);}\n",
       ".datatable .vellipsis {  background: var(--jp-layout-color0);  color: var(--jp-cell-editor-border-color);}\n",
       ".datatable .na {  color: var(--jp-cell-editor-border-color);  font-size: 80%;}\n",
       ".datatable .footer { font-size: 9px; }\n",
       ".datatable .frame_dimensions {  background: var(--jp-border-color3);  border-top: 1px solid var(--jp-border-color0);  color: var(--jp-ui-font-color3);  display: inline-block;  opacity: 0.6;  padding: 1px 10px 1px 5px;}\n",
       "</style>\n"
      ],
      "text/plain": [
       "<IPython.core.display.HTML object>"
      ]
     },
     "metadata": {},
     "output_type": "display_data"
    }
   ],
   "source": [
    "import os, time, gc\n",
    "import numpy as np\n",
    "import datatable as dt\n",
    "import pandas as pd\n",
    "import xgboost as xgb\n",
    "from tqdm.notebook import tqdm\n",
    "import matplotlib.pyplot as plt\n",
    "import seaborn as sns\n",
    "from numba import njit\n",
    "import treelite, treelite_runtime\n",
    "\n",
    "from sklearn.preprocessing import StandardScaler\n",
    "from sklearn.decomposition import PCA\n",
    "\n",
    "import warnings\n",
    "warnings.filterwarnings('ignore')"
   ]
  },
  {
   "cell_type": "code",
   "execution_count": 2,
   "id": "pointed-stick",
   "metadata": {},
   "outputs": [
    {
     "name": "stdout",
     "output_type": "stream",
     "text": [
      "CPU times: user 10min 11s, sys: 37.2 s, total: 10min 48s\n",
      "Wall time: 30.5 s\n"
     ]
    }
   ],
   "source": [
    "%%time\n",
    "path = '/kaggle/working/input/'\n",
    "# path = '/kaggle/input/jane-street-market-prediction'\n",
    "train = dt.fread(os.path.join(path, 'train.csv')).to_pandas()\n",
    "\n",
    "train = train[train['weight'] != 0].reset_index(drop = True)\n",
    "f_mean = train.mean()\n",
    "train = train.fillna(f_mean)\n",
    "\n",
    "features = [c for c in train.columns if 'feature' in c]\n",
    "\n",
    "train['action'] = (train['resp'].values > 0).astype(int)\n",
    "\n",
    "X_train = train.loc[train['date'] > 85, features].values\n",
    "y_train = train.loc[train['date'] > 85, 'action'].values\n",
    "del train"
   ]
  },
  {
   "cell_type": "markdown",
   "id": "trained-cornwall",
   "metadata": {},
   "source": [
    "# Principal Components Analysis(PCA)"
   ]
  },
  {
   "cell_type": "code",
   "execution_count": 3,
   "id": "sophisticated-coating",
   "metadata": {},
   "outputs": [
    {
     "data": {
      "image/png": "[encoded data removed]",
      "text/plain": [
       "<Figure size 432x288 with 1 Axes>"
      ]
     },
     "metadata": {
      "needs_background": "light"
     },
     "output_type": "display_data"
    }
   ],
   "source": [
    "PCA_appied = True\n",
    "if PCA_appied:\n",
    "    # 归一化\n",
    "    scaler = StandardScaler()\n",
    "    scaler.fit(X_train)\n",
    "    norm_X_train = scaler.transform(X_train)\n",
    "\n",
    "    # 主成分分析\n",
    "    pca = PCA()\n",
    "    comp = pca.fit(norm_X_train)\n",
    "\n",
    "    # 在保留不同的维度个数时的方差和\n",
    "    plt.plot(np.cumsum(comp.explained_variance_ratio_))\n",
    "    plt.grid()\n",
    "    plt.xlabel('Number of Principal Components')\n",
    "    plt.ylabel('Explained Variance')\n",
    "    sns.despine()\n",
    "    \n",
    "    pca = PCA(n_components=50).fit(norm_X_train)\n",
    "    X_train = pca.transform(norm_X_train)"
   ]
  },
  {
   "cell_type": "code",
   "execution_count": 21,
   "id": "outside-cosmetic",
   "metadata": {},
   "outputs": [
    {
     "name": "stdout",
     "output_type": "stream",
     "text": [
      "[16:43:41] WARNING: ../src/learner.cc:541: \n",
      "Parameters: { n_estimators } might not be used.\n",
      "\n",
      "  This may not be accurate due to some parameters are only used in language bindings but\n",
      "  passed down to XGBoost core.  Or some parameters are not used but slip through this\n",
      "  verification. Please open an issue if you find above cases.\n",
      "\n",
      "\n",
      "CPU times: user 39.7 s, sys: 9.24 s, total: 49 s\n",
      "Wall time: 19.8 s\n"
     ]
    }
   ],
   "source": [
    "%%time\n",
    "dtrain = xgb.DMatrix(X_train, y_train)\n",
    "params = {\n",
    "    'n_estimators': 500,\n",
    "    'max_depth': 8,\n",
    "    'learning_rate': 0.014,\n",
    "    'subsample': 0.46,\n",
    "    'colsample_bytree': 0.99,\n",
    "    'objective': 'binary:logistic',\n",
    "    'random_state': 2020,\n",
    "    'tree_method': 'gpu_hist',\n",
    "    'eval_metric': 'logloss'\n",
    "}\n",
    "clf = xgb.train(params, dtrain, 200)"
   ]
  },
  {
   "cell_type": "code",
   "execution_count": 24,
   "id": "chief-advancement",
   "metadata": {},
   "outputs": [
    {
     "name": "stdout",
     "output_type": "stream",
     "text": [
      "[16:47:44] ../src/compiler/ast_native.cc:45: Using ASTNativeCompiler\n",
      "[16:47:44] ../src/compiler/ast/split.cc:31: Parallel compilation enabled; member trees will be divided into 32 translation units.\n",
      "[16:47:44] ../src/c_api/c_api.cc:120: Code generation finished. Writing code to files...\n",
      "[16:47:44] ../src/c_api/c_api.cc:125: Writing file recipe.json...\n",
      "[16:47:44] ../src/c_api/c_api.cc:125: Writing file tu27.c...\n",
      "[16:47:44] ../src/c_api/c_api.cc:125: Writing file tu22.c...\n",
      "[16:47:44] ../src/c_api/c_api.cc:125: Writing file tu24.c...\n",
      "[16:47:44] ../src/c_api/c_api.cc:125: Writing file tu21.c...\n",
      "[16:47:44] ../src/c_api/c_api.cc:125: Writing file tu8.c...\n",
      "[16:47:44] ../src/c_api/c_api.cc:125: Writing file tu5.c...\n",
      "[16:47:44] ../src/c_api/c_api.cc:125: Writing file tu6.c...\n",
      "[16:47:44] ../src/c_api/c_api.cc:125: Writing file tu3.c...\n",
      "[16:47:44] ../src/c_api/c_api.cc:125: Writing file tu7.c...\n",
      "[16:47:44] ../src/c_api/c_api.cc:125: Writing file tu26.c...\n",
      "[16:47:44] ../src/c_api/c_api.cc:125: Writing file tu16.c...\n",
      "[16:47:44] ../src/c_api/c_api.cc:125: Writing file tu14.c...\n",
      "[16:47:44] ../src/c_api/c_api.cc:125: Writing file header.h...\n",
      "[16:47:44] ../src/c_api/c_api.cc:125: Writing file tu0.c...\n",
      "[16:47:44] ../src/c_api/c_api.cc:125: Writing file tu4.c...\n",
      "[16:47:44] ../src/c_api/c_api.cc:125: Writing file tu19.c...\n",
      "[16:47:44] ../src/c_api/c_api.cc:125: Writing file main.c...\n",
      "[16:47:44] ../src/c_api/c_api.cc:125: Writing file tu2.c...\n",
      "[16:47:44] ../src/c_api/c_api.cc:125: Writing file tu9.c...\n",
      "[16:47:44] ../src/c_api/c_api.cc:125: Writing file tu10.c...\n",
      "[16:47:44] ../src/c_api/c_api.cc:125: Writing file tu23.c...\n",
      "[16:47:44] ../src/c_api/c_api.cc:125: Writing file tu1.c...\n",
      "[16:47:44] ../src/c_api/c_api.cc:125: Writing file tu12.c...\n",
      "[16:47:44] ../src/c_api/c_api.cc:125: Writing file tu11.c...\n",
      "[16:47:44] ../src/c_api/c_api.cc:125: Writing file tu25.c...\n",
      "[16:47:44] ../src/c_api/c_api.cc:125: Writing file tu13.c...\n",
      "[16:47:44] ../src/c_api/c_api.cc:125: Writing file tu15.c...\n",
      "[16:47:44] ../src/c_api/c_api.cc:125: Writing file tu17.c...\n",
      "[16:47:44] ../src/c_api/c_api.cc:125: Writing file tu28.c...\n",
      "[16:47:44] ../src/c_api/c_api.cc:125: Writing file tu18.c...\n",
      "[16:47:44] ../src/c_api/c_api.cc:125: Writing file tu20.c...\n",
      "[16:47:44] /home/liuchh/anaconda3/envs/kaggle/lib/python3.7/site-packages/treelite/contrib/util.py:104: Compiling sources files in directory ./tmp183uz3i2 into object files (*.o)...\n",
      "[16:47:47] /home/liuchh/anaconda3/envs/kaggle/lib/python3.7/site-packages/treelite/contrib/util.py:133: Generating dynamic shared library ./tmp183uz3i2/predictor.so...\n",
      "[16:47:47] /home/liuchh/anaconda3/envs/kaggle/lib/python3.7/site-packages/treelite/contrib/__init__.py:278: Generated shared library in 3.24 seconds\n",
      "[16:47:47] /home/liuchh/anaconda3/envs/kaggle/lib/python3.7/site-packages/treelite_runtime/predictor.py:147: Dynamic shared library /home/liuchh/kaggle/working/mymodel.so has been successfully loaded into memory\n"
     ]
    }
   ],
   "source": [
    "model = treelite.Model.from_xgboost(clf)\n",
    "toolchain = 'gcc'\n",
    "model.export_lib(toolchain=toolchain, libpath='./mymodel.so', params={'parallel_comp': 32}, verbose=True)\n",
    "predictor = treelite_runtime.Predictor('./mymodel.so', verbose=True)"
   ]
  },
  {
   "cell_type": "code",
   "execution_count": 53,
   "id": "beautiful-apple",
   "metadata": {},
   "outputs": [],
   "source": [
    "@njit\n",
    "def fast_fillna(array, values):\n",
    "    if np.isnan(array.sum()):\n",
    "        array = np.where(np.isnan(array), values, array)\n",
    "    return array"
   ]
  },
  {
   "cell_type": "code",
   "execution_count": 54,
   "id": "smaller-encoding",
   "metadata": {},
   "outputs": [],
   "source": [
    "import janestreet\n",
    "env = janestreet.make_env()\n",
    "iter_test = env.iter_test()"
   ]
  },
  {
   "cell_type": "code",
   "execution_count": 55,
   "id": "bearing-scout",
   "metadata": {},
   "outputs": [
    {
     "data": {
      "application/vnd.jupyter.widget-view+json": {
       "model_id": "b90adfe2459c41a19161207e65fe7e4a",
       "version_major": 2,
       "version_minor": 0
      },
      "text/plain": [
       "0it [00:00, ?it/s]"
      ]
     },
     "metadata": {},
     "output_type": "display_data"
    },
    {
     "name": "stdout",
     "output_type": "stream",
     "text": [
      "CPU times: user 1min 54s, sys: 1.38 s, total: 1min 56s\n",
      "Wall time: 1min 55s\n"
     ]
    }
   ],
   "source": [
    "%%time\n",
    "opt_th = 0.505\n",
    "tmp = np.zeros(len(features))\n",
    "for (test_df, prediction_df) in tqdm(iter_test):\n",
    "    if test_df['weight'].values[0] > 0:\n",
    "        x_tt = test_df.loc[:, features].values\n",
    "        x_tt[0, :] = fast_fillna(x_tt[0, :], tmp)\n",
    "        tmp = x_tt[0, :]\n",
    "        if PCA_appied:\n",
    "#             y_preds = clf.predict(pca.transform(x_tt))\n",
    "            y_preds = predictor.predict(treelite_runtime.DMatrix(pca.transform(x_tt)))\n",
    "        else:\n",
    "#             y_preds = clf.predict(x_tt)\n",
    "            y_preds = predictor.predict(treelite_runtime.DMatrix(x_tt))\n",
    "        prediction_df[\"action\"].values[0] = int(y_preds >= 0.5)\n",
    "    else:\n",
    "        prediction_df[\"action\"].values[0] = 0\n",
    "    env.predict(prediction_df)"
   ]
  },
  {
   "cell_type": "code",
   "execution_count": null,
   "id": "structural-nigeria",
   "metadata": {},
   "outputs": [],
   "source": []
  }
 ],
 "metadata": {
  "kernelspec": {
   "display_name": "Python 3",
   "language": "python",
   "name": "python3"
  },
  "language_info": {
   "codemirror_mode": {
    "name": "ipython",
    "version": 3
   },
   "file_extension": ".py",
   "mimetype": "text/x-python",
   "name": "python",
   "nbconvert_exporter": "python",
   "pygments_lexer": "ipython3",
   "version": "3.7.10"
  }
 },
 "nbformat": 4,
 "nbformat_minor": 5
}
