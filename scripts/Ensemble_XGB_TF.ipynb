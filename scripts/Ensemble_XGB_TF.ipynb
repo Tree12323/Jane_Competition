{
 "cells": [
  {
   "cell_type": "code",
   "execution_count": 1,
   "id": "headed-testing",
   "metadata": {},
   "outputs": [
    {
     "data": {
      "text/html": [
       "<style type='text/css'>\n",
       ".datatable table.frame { margin-bottom: 0; }\n",
       ".datatable table.frame thead { border-bottom: none; }\n",
       ".datatable table.frame tr.coltypes td {  color: #FFFFFF;  line-height: 6px;  padding: 0 0.5em;}\n",
       ".datatable .bool    { background: #DDDD99; }\n",
       ".datatable .object  { background: #565656; }\n",
       ".datatable .int     { background: #5D9E5D; }\n",
       ".datatable .float   { background: #4040CC; }\n",
       ".datatable .str     { background: #CC4040; }\n",
       ".datatable .row_index {  background: var(--jp-border-color3);  border-right: 1px solid var(--jp-border-color0);  color: var(--jp-ui-font-color3);  font-size: 9px;}\n",
       ".datatable .frame tr.coltypes .row_index {  background: var(--jp-border-color0);}\n",
       ".datatable th:nth-child(2) { padding-left: 12px; }\n",
       ".datatable .hellipsis {  color: var(--jp-cell-editor-border-color);}\n",
       ".datatable .vellipsis {  background: var(--jp-layout-color0);  color: var(--jp-cell-editor-border-color);}\n",
       ".datatable .na {  color: var(--jp-cell-editor-border-color);  font-size: 80%;}\n",
       ".datatable .footer { font-size: 9px; }\n",
       ".datatable .frame_dimensions {  background: var(--jp-border-color3);  border-top: 1px solid var(--jp-border-color0);  color: var(--jp-ui-font-color3);  display: inline-block;  opacity: 0.6;  padding: 1px 10px 1px 5px;}\n",
       "</style>\n"
      ],
      "text/plain": [
       "<IPython.core.display.HTML object>"
      ]
     },
     "metadata": {},
     "output_type": "display_data"
    }
   ],
   "source": [
    "import os, time, gc, random\n",
    "import numpy as np\n",
    "import datatable as dt\n",
    "import pandas as pd\n",
    "from tqdm.notebook import tqdm\n",
    "from random import choices\n",
    "from numba import njit\n",
    "import xgboost as xgb\n",
    "import treelite, treelite_runtime\n",
    "\n",
    "from tensorflow.keras.layers import Input, Dense, BatchNormalization, Dropout, Concatenate, Lambda, GaussianNoise, Activation\n",
    "from tensorflow.keras.models import Model, Sequential\n",
    "from tensorflow.keras.losses import BinaryCrossentropy\n",
    "from tensorflow.keras.optimizers import Adam\n",
    "from tensorflow.keras.callbacks import EarlyStopping\n",
    "from tensorflow.keras.layers.experimental.preprocessing import Normalization\n",
    "\n",
    "import tensorflow as tf\n",
    "import tensorflow_addons as tfa\n",
    "\n",
    "import warnings\n",
    "warnings.filterwarnings('ignore')"
   ]
  },
  {
   "cell_type": "markdown",
   "id": "starting-laundry",
   "metadata": {},
   "source": [
    "# Processing"
   ]
  },
  {
   "cell_type": "code",
   "execution_count": 2,
   "id": "seventh-compromise",
   "metadata": {},
   "outputs": [
    {
     "name": "stdout",
     "output_type": "stream",
     "text": [
      "CPU times: user 24min 8s, sys: 35.7 s, total: 24min 44s\n",
      "Wall time: 48.3 s\n"
     ]
    }
   ],
   "source": [
    "%%time\n",
    "train = dt.fread('/kaggle/working/input/train.csv').to_pandas()\n",
    "# train = dt.fread('/kaggle/input/jane-street-market-prediction/train.csv').to_pandas()\n",
    "train = train.query('date > 85').reset_index(drop=True)\n",
    "train = train.loc[train.weight > 0].reset_index(drop = True)\n",
    "\n",
    "features = [c for c in train.columns if 'feature' in c]\n",
    "f_mean = train[features[1:]].mean()\n",
    "train[features[1:]] = train[features[1:]].fillna(f_mean)\n",
    "f_mean = f_mean.values\n",
    "\n",
    "train['action'] = (train['resp'] > 0).astype('int')\n",
    "\n",
    "resp_cols = ['resp_1', 'resp_2', 'resp_3', 'resp_4', 'resp']"
   ]
  },
  {
   "cell_type": "code",
   "execution_count": 3,
   "id": "residential-richardson",
   "metadata": {},
   "outputs": [
    {
     "data": {
      "text/plain": [
       "44"
      ]
     },
     "execution_count": 3,
     "metadata": {},
     "output_type": "execute_result"
    }
   ],
   "source": [
    "X_train = train.loc[:, features].values\n",
    "tf_y_train = (train[resp_cols] > 0).astype(int).values\n",
    "xgb_y_train = (train['action'] > 0).astype(int).values\n",
    "del train\n",
    "gc.collect()"
   ]
  },
  {
   "cell_type": "markdown",
   "id": "developing-consortium",
   "metadata": {},
   "source": [
    "# XGBoost"
   ]
  },
  {
   "cell_type": "code",
   "execution_count": 4,
   "id": "legendary-links",
   "metadata": {},
   "outputs": [
    {
     "name": "stdout",
     "output_type": "stream",
     "text": [
      "[01:19:16] WARNING: ../src/learner.cc:541: \n",
      "Parameters: { n_estimators } might not be used.\n",
      "\n",
      "  This may not be accurate due to some parameters are only used in language bindings but\n",
      "  passed down to XGBoost core.  Or some parameters are not used but slip through this\n",
      "  verification. Please open an issue if you find above cases.\n",
      "\n",
      "\n",
      "CPU times: user 41.1 s, sys: 11.7 s, total: 52.8 s\n",
      "Wall time: 26.8 s\n"
     ]
    }
   ],
   "source": [
    "%%time\n",
    "dtrain = xgb.DMatrix(X_train, xgb_y_train)\n",
    "params = {\n",
    "    'n_estimators': 500,\n",
    "    'max_depth': 8,\n",
    "    'learning_rate': 0.014,\n",
    "    'subsample': 0.46,\n",
    "    'colsample_bytree': 0.99,\n",
    "    'objective': 'binary:logistic',\n",
    "    'random_state': 2020,\n",
    "    'tree_method': 'gpu_hist',\n",
    "    'eval_metric': 'logloss'\n",
    "}\n",
    "xgb_clf = xgb.train(params, dtrain, 200)"
   ]
  },
  {
   "cell_type": "code",
   "execution_count": 5,
   "id": "moral-postage",
   "metadata": {},
   "outputs": [
    {
     "name": "stdout",
     "output_type": "stream",
     "text": [
      "[01:19:40] ../src/compiler/ast_native.cc:45: Using ASTNativeCompiler\n",
      "[01:19:40] ../src/compiler/ast/split.cc:31: Parallel compilation enabled; member trees will be divided into 32 translation units.\n",
      "[01:19:41] ../src/c_api/c_api.cc:120: Code generation finished. Writing code to files...\n",
      "[01:19:41] ../src/c_api/c_api.cc:125: Writing file recipe.json...\n",
      "[01:19:41] ../src/c_api/c_api.cc:125: Writing file tu27.c...\n",
      "[01:19:41] ../src/c_api/c_api.cc:125: Writing file tu22.c...\n",
      "[01:19:41] ../src/c_api/c_api.cc:125: Writing file tu24.c...\n",
      "[01:19:41] ../src/c_api/c_api.cc:125: Writing file tu21.c...\n",
      "[01:19:41] ../src/c_api/c_api.cc:125: Writing file tu8.c...\n",
      "[01:19:41] ../src/c_api/c_api.cc:125: Writing file tu5.c...\n",
      "[01:19:41] ../src/c_api/c_api.cc:125: Writing file tu6.c...\n",
      "[01:19:41] ../src/c_api/c_api.cc:125: Writing file tu3.c...\n",
      "[01:19:41] ../src/c_api/c_api.cc:125: Writing file tu7.c...\n",
      "[01:19:41] ../src/c_api/c_api.cc:125: Writing file tu26.c...\n",
      "[01:19:41] ../src/c_api/c_api.cc:125: Writing file tu16.c...\n",
      "[01:19:41] ../src/c_api/c_api.cc:125: Writing file tu14.c...\n",
      "[01:19:41] ../src/c_api/c_api.cc:125: Writing file header.h...\n",
      "[01:19:41] ../src/c_api/c_api.cc:125: Writing file tu0.c...\n",
      "[01:19:41] ../src/c_api/c_api.cc:125: Writing file tu4.c...\n",
      "[01:19:41] ../src/c_api/c_api.cc:125: Writing file tu19.c...\n",
      "[01:19:41] ../src/c_api/c_api.cc:125: Writing file main.c...\n",
      "[01:19:41] ../src/c_api/c_api.cc:125: Writing file tu2.c...\n",
      "[01:19:41] ../src/c_api/c_api.cc:125: Writing file tu9.c...\n",
      "[01:19:41] ../src/c_api/c_api.cc:125: Writing file tu10.c...\n",
      "[01:19:41] ../src/c_api/c_api.cc:125: Writing file tu23.c...\n",
      "[01:19:41] ../src/c_api/c_api.cc:125: Writing file tu1.c...\n",
      "[01:19:41] ../src/c_api/c_api.cc:125: Writing file tu12.c...\n",
      "[01:19:41] ../src/c_api/c_api.cc:125: Writing file tu11.c...\n",
      "[01:19:41] ../src/c_api/c_api.cc:125: Writing file tu25.c...\n",
      "[01:19:41] ../src/c_api/c_api.cc:125: Writing file tu13.c...\n",
      "[01:19:41] ../src/c_api/c_api.cc:125: Writing file tu15.c...\n",
      "[01:19:41] ../src/c_api/c_api.cc:125: Writing file tu17.c...\n",
      "[01:19:41] ../src/c_api/c_api.cc:125: Writing file tu28.c...\n",
      "[01:19:41] ../src/c_api/c_api.cc:125: Writing file tu18.c...\n",
      "[01:19:41] ../src/c_api/c_api.cc:125: Writing file tu20.c...\n",
      "[01:19:41] /home/liuchh/anaconda3/envs/kaggle/lib/python3.7/site-packages/treelite/contrib/util.py:104: Compiling sources files in directory ./tmpecokybpv into object files (*.o)...\n",
      "[01:19:50] /home/liuchh/anaconda3/envs/kaggle/lib/python3.7/site-packages/treelite/contrib/util.py:133: Generating dynamic shared library ./tmpecokybpv/predictor.so...\n",
      "[01:19:50] /home/liuchh/anaconda3/envs/kaggle/lib/python3.7/site-packages/treelite/contrib/__init__.py:278: Generated shared library in 9.83 seconds\n",
      "[01:19:51] /home/liuchh/anaconda3/envs/kaggle/lib/python3.7/site-packages/treelite_runtime/predictor.py:147: Dynamic shared library /home/liuchh/kaggle/working/xgb_model.so has been successfully loaded into memory\n"
     ]
    },
    {
     "data": {
      "text/plain": [
       "0"
      ]
     },
     "execution_count": 5,
     "metadata": {},
     "output_type": "execute_result"
    }
   ],
   "source": [
    "model = treelite.Model.from_xgboost(xgb_clf)\n",
    "toolchain = 'gcc'\n",
    "model.export_lib(toolchain=toolchain, libpath='./xgb_model.so', params={'parallel_comp': 32}, verbose=True)\n",
    "xgb_predictor = treelite_runtime.Predictor('./xgb_model.so', verbose=True)\n",
    "del xgb_clf\n",
    "gc.collect()"
   ]
  },
  {
   "cell_type": "markdown",
   "id": "executed-dealer",
   "metadata": {},
   "source": [
    "# Tensorflow"
   ]
  },
  {
   "cell_type": "code",
   "execution_count": 6,
   "id": "double-suite",
   "metadata": {},
   "outputs": [],
   "source": [
    "tf.random.set_seed(1111)\n",
    "def create_mlp(num_columns, num_labels, hidden_units, dropout_rates, label_smoothing, learning_rate):\n",
    "    inp = tf.keras.layers.Input(shape=(num_columns,))\n",
    "    x = tf.keras.layers.BatchNormalization()(inp)\n",
    "    x = tf.keras.layers.Dropout(dropout_rates[0])(x)\n",
    "    for i in range(len(hidden_units)):\n",
    "        x = tf.keras.layers.Dense(hidden_units[i])(x)\n",
    "        x = tf.keras.layers.BatchNormalization()(x)\n",
    "        x = tf.keras.layers.Activation(tf.keras.activations.swish)(x)\n",
    "        x = tf.keras.layers.Dropout(dropout_rates[i + 1])(x)\n",
    "        \n",
    "    x = tf.keras.layers.Dense(num_labels)(x)\n",
    "    out = tf.keras.layers.Activation(\"sigmoid\")(x)\n",
    "\n",
    "    model = tf.keras.models.Model(inputs=inp, outputs=out)\n",
    "    model.compile(\n",
    "        optimizer=tfa.optimizers.RectifiedAdam(learning_rate=learning_rate), # RectifiedAdam Optimizer (known to be robust to the choice in learning rate)\n",
    "        loss=tf.keras.losses.BinaryCrossentropy(label_smoothing=label_smoothing),\n",
    "        metrics=tf.keras.metrics.AUC(name=\"AUC\"),\n",
    "    ) \n",
    "    \n",
    "    return model"
   ]
  },
  {
   "cell_type": "code",
   "execution_count": 7,
   "id": "essential-elizabeth",
   "metadata": {
    "scrolled": true
   },
   "outputs": [
    {
     "name": "stdout",
     "output_type": "stream",
     "text": [
      "Epoch 1/100\n",
      "384/384 - 5s - loss: 0.7170 - AUC: 0.5120\n",
      "Epoch 2/100\n",
      "384/384 - 6s - loss: 0.6941 - AUC: 0.5275\n",
      "Epoch 3/100\n",
      "384/384 - 6s - loss: 0.6913 - AUC: 0.5342\n",
      "Epoch 4/100\n",
      "384/384 - 6s - loss: 0.6904 - AUC: 0.5383\n",
      "Epoch 5/100\n",
      "384/384 - 6s - loss: 0.6899 - AUC: 0.5412\n",
      "Epoch 6/100\n",
      "384/384 - 6s - loss: 0.6897 - AUC: 0.5428\n",
      "Epoch 7/100\n",
      "384/384 - 6s - loss: 0.6895 - AUC: 0.5440\n",
      "Epoch 8/100\n",
      "384/384 - 6s - loss: 0.6893 - AUC: 0.5451\n",
      "Epoch 9/100\n",
      "384/384 - 6s - loss: 0.6890 - AUC: 0.5468\n",
      "Epoch 10/100\n",
      "384/384 - 6s - loss: 0.6888 - AUC: 0.5477\n",
      "Epoch 11/100\n",
      "384/384 - 6s - loss: 0.6887 - AUC: 0.5482\n",
      "Epoch 12/100\n",
      "384/384 - 6s - loss: 0.6885 - AUC: 0.5495\n",
      "Epoch 13/100\n",
      "384/384 - 6s - loss: 0.6883 - AUC: 0.5502\n",
      "Epoch 14/100\n",
      "384/384 - 6s - loss: 0.6882 - AUC: 0.5506\n",
      "Epoch 15/100\n",
      "384/384 - 5s - loss: 0.6881 - AUC: 0.5509\n",
      "Epoch 16/100\n",
      "384/384 - 6s - loss: 0.6880 - AUC: 0.5519\n",
      "Epoch 17/100\n",
      "384/384 - 5s - loss: 0.6878 - AUC: 0.5525\n",
      "Epoch 18/100\n",
      "384/384 - 5s - loss: 0.6877 - AUC: 0.5530\n",
      "Epoch 19/100\n",
      "384/384 - 5s - loss: 0.6876 - AUC: 0.5534\n",
      "Epoch 20/100\n",
      "384/384 - 5s - loss: 0.6874 - AUC: 0.5542\n",
      "Epoch 21/100\n",
      "384/384 - 5s - loss: 0.6873 - AUC: 0.5548\n",
      "Epoch 22/100\n",
      "384/384 - 6s - loss: 0.6872 - AUC: 0.5550\n",
      "Epoch 23/100\n",
      "384/384 - 5s - loss: 0.6871 - AUC: 0.5554\n",
      "Epoch 24/100\n",
      "384/384 - 6s - loss: 0.6871 - AUC: 0.5556\n",
      "Epoch 25/100\n",
      "384/384 - 6s - loss: 0.6869 - AUC: 0.5560\n",
      "Epoch 26/100\n",
      "384/384 - 6s - loss: 0.6868 - AUC: 0.5568\n",
      "Epoch 27/100\n",
      "384/384 - 6s - loss: 0.6868 - AUC: 0.5564\n",
      "Epoch 28/100\n",
      "384/384 - 5s - loss: 0.6866 - AUC: 0.5572\n",
      "Epoch 29/100\n",
      "384/384 - 6s - loss: 0.6866 - AUC: 0.5570\n",
      "Epoch 30/100\n",
      "384/384 - 5s - loss: 0.6864 - AUC: 0.5579\n",
      "Epoch 31/100\n",
      "384/384 - 6s - loss: 0.6863 - AUC: 0.5582\n",
      "Epoch 32/100\n",
      "384/384 - 6s - loss: 0.6863 - AUC: 0.5580\n",
      "Epoch 33/100\n",
      "384/384 - 5s - loss: 0.6862 - AUC: 0.5585\n",
      "Epoch 34/100\n",
      "384/384 - 6s - loss: 0.6861 - AUC: 0.5590\n",
      "Epoch 35/100\n",
      "384/384 - 6s - loss: 0.6860 - AUC: 0.5591\n",
      "Epoch 36/100\n",
      "384/384 - 6s - loss: 0.6860 - AUC: 0.5593\n",
      "Epoch 37/100\n",
      "384/384 - 6s - loss: 0.6859 - AUC: 0.5592\n",
      "Epoch 38/100\n",
      "384/384 - 5s - loss: 0.6858 - AUC: 0.5598\n",
      "Epoch 39/100\n",
      "384/384 - 5s - loss: 0.6857 - AUC: 0.5602\n",
      "Epoch 40/100\n",
      "384/384 - 5s - loss: 0.6857 - AUC: 0.5604\n",
      "Epoch 41/100\n",
      "384/384 - 6s - loss: 0.6857 - AUC: 0.5602\n",
      "Epoch 42/100\n",
      "384/384 - 6s - loss: 0.6856 - AUC: 0.5602\n",
      "Epoch 43/100\n",
      "384/384 - 5s - loss: 0.6855 - AUC: 0.5609\n",
      "Epoch 44/100\n",
      "384/384 - 6s - loss: 0.6855 - AUC: 0.5606\n",
      "Epoch 45/100\n",
      "384/384 - 6s - loss: 0.6854 - AUC: 0.5610\n",
      "Epoch 46/100\n",
      "384/384 - 6s - loss: 0.6854 - AUC: 0.5611\n",
      "Epoch 47/100\n",
      "384/384 - 6s - loss: 0.6853 - AUC: 0.5617\n",
      "Epoch 48/100\n",
      "384/384 - 5s - loss: 0.6853 - AUC: 0.5612\n",
      "Epoch 49/100\n",
      "384/384 - 5s - loss: 0.6852 - AUC: 0.5616\n",
      "Epoch 50/100\n",
      "384/384 - 5s - loss: 0.6852 - AUC: 0.5614\n",
      "Epoch 51/100\n",
      "384/384 - 5s - loss: 0.6851 - AUC: 0.5617\n",
      "Epoch 52/100\n",
      "384/384 - 5s - loss: 0.6850 - AUC: 0.5620\n",
      "Epoch 53/100\n",
      "384/384 - 6s - loss: 0.6849 - AUC: 0.5623\n",
      "Epoch 54/100\n",
      "384/384 - 6s - loss: 0.6849 - AUC: 0.5627\n",
      "Epoch 55/100\n",
      "384/384 - 5s - loss: 0.6849 - AUC: 0.5622\n",
      "Epoch 56/100\n",
      "384/384 - 6s - loss: 0.6848 - AUC: 0.5626\n",
      "Epoch 57/100\n",
      "384/384 - 6s - loss: 0.6849 - AUC: 0.5626\n",
      "Epoch 58/100\n",
      "384/384 - 5s - loss: 0.6847 - AUC: 0.5632\n",
      "Epoch 59/100\n",
      "384/384 - 5s - loss: 0.6846 - AUC: 0.5634\n",
      "Epoch 60/100\n",
      "384/384 - 5s - loss: 0.6846 - AUC: 0.5633\n",
      "Epoch 61/100\n",
      "384/384 - 6s - loss: 0.6846 - AUC: 0.5635\n",
      "Epoch 62/100\n",
      "384/384 - 5s - loss: 0.6846 - AUC: 0.5634\n",
      "Epoch 63/100\n",
      "384/384 - 5s - loss: 0.6845 - AUC: 0.5631\n",
      "Epoch 64/100\n",
      "384/384 - 6s - loss: 0.6845 - AUC: 0.5636\n",
      "Epoch 65/100\n",
      "384/384 - 5s - loss: 0.6845 - AUC: 0.5636\n",
      "Epoch 66/100\n",
      "384/384 - 6s - loss: 0.6845 - AUC: 0.5635\n",
      "Epoch 67/100\n",
      "384/384 - 6s - loss: 0.6844 - AUC: 0.5638\n",
      "Epoch 68/100\n",
      "384/384 - 5s - loss: 0.6843 - AUC: 0.5641\n",
      "Epoch 69/100\n",
      "384/384 - 6s - loss: 0.6843 - AUC: 0.5643\n",
      "Epoch 70/100\n",
      "384/384 - 6s - loss: 0.6843 - AUC: 0.5644\n",
      "Epoch 71/100\n",
      "384/384 - 6s - loss: 0.6843 - AUC: 0.5640\n",
      "Epoch 72/100\n",
      "384/384 - 6s - loss: 0.6843 - AUC: 0.5643\n",
      "Epoch 73/100\n",
      "384/384 - 5s - loss: 0.6840 - AUC: 0.5650\n",
      "Epoch 74/100\n",
      "384/384 - 6s - loss: 0.6841 - AUC: 0.5648\n",
      "Epoch 75/100\n",
      "384/384 - 5s - loss: 0.6841 - AUC: 0.5648\n",
      "Epoch 76/100\n",
      "384/384 - 6s - loss: 0.6841 - AUC: 0.5646\n",
      "Epoch 77/100\n",
      "384/384 - 5s - loss: 0.6841 - AUC: 0.5648\n",
      "Epoch 78/100\n",
      "384/384 - 5s - loss: 0.6840 - AUC: 0.5651\n",
      "Epoch 79/100\n",
      "384/384 - 5s - loss: 0.6840 - AUC: 0.5648\n",
      "Epoch 80/100\n",
      "384/384 - 5s - loss: 0.6840 - AUC: 0.5649\n",
      "Epoch 81/100\n",
      "384/384 - 5s - loss: 0.6840 - AUC: 0.5652\n",
      "Epoch 82/100\n",
      "384/384 - 5s - loss: 0.6840 - AUC: 0.5652\n",
      "Epoch 83/100\n",
      "384/384 - 6s - loss: 0.6839 - AUC: 0.5653\n",
      "Epoch 84/100\n",
      "384/384 - 5s - loss: 0.6838 - AUC: 0.5658\n",
      "Epoch 85/100\n",
      "384/384 - 5s - loss: 0.6838 - AUC: 0.5658\n",
      "Epoch 86/100\n",
      "384/384 - 6s - loss: 0.6838 - AUC: 0.5654\n",
      "Epoch 87/100\n",
      "384/384 - 5s - loss: 0.6838 - AUC: 0.5658\n",
      "Epoch 88/100\n",
      "384/384 - 6s - loss: 0.6837 - AUC: 0.5660\n",
      "Epoch 89/100\n",
      "384/384 - 5s - loss: 0.6837 - AUC: 0.5661\n",
      "Epoch 90/100\n",
      "384/384 - 6s - loss: 0.6837 - AUC: 0.5662\n",
      "Epoch 91/100\n",
      "384/384 - 6s - loss: 0.6837 - AUC: 0.5658\n",
      "Epoch 92/100\n",
      "384/384 - 5s - loss: 0.6837 - AUC: 0.5660\n",
      "Epoch 93/100\n",
      "384/384 - 6s - loss: 0.6838 - AUC: 0.5659\n",
      "Epoch 94/100\n",
      "384/384 - 5s - loss: 0.6836 - AUC: 0.5665\n",
      "Epoch 95/100\n",
      "384/384 - 6s - loss: 0.6836 - AUC: 0.5662\n",
      "Epoch 96/100\n",
      "384/384 - 6s - loss: 0.6836 - AUC: 0.5661\n",
      "Epoch 97/100\n",
      "384/384 - 5s - loss: 0.6836 - AUC: 0.5662\n",
      "Epoch 98/100\n",
      "384/384 - 6s - loss: 0.6835 - AUC: 0.5663\n",
      "Epoch 99/100\n",
      "384/384 - 5s - loss: 0.6835 - AUC: 0.5665\n",
      "Epoch 100/100\n",
      "384/384 - 5s - loss: 0.6834 - AUC: 0.5666\n"
     ]
    }
   ],
   "source": [
    "epochs = 100\n",
    "batch_size = 4096\n",
    "hidden_units = [160, 160, 160]\n",
    "dropout_rates = [0.2, 0.2, 0.2, 0.2]\n",
    "label_smoothing = 1e-2\n",
    "learning_rate = 1e-3\n",
    "\n",
    "tf.keras.backend.clear_session()\n",
    "tf_predictor = create_mlp(len(features), 5, hidden_units, dropout_rates, label_smoothing, learning_rate)\n",
    "tf_predictor.fit(X_train, tf_y_train, epochs=epochs, batch_size=batch_size, verbose=2)\n",
    "tf_predictor.save('tf_model.h5')"
   ]
  },
  {
   "cell_type": "markdown",
   "id": "computational-bullet",
   "metadata": {},
   "source": [
    "# Inference"
   ]
  },
  {
   "cell_type": "code",
   "execution_count": 8,
   "id": "laden-miller",
   "metadata": {},
   "outputs": [],
   "source": [
    "import janestreet\n",
    "env = janestreet.make_env()\n",
    "iter_test = env.iter_test()"
   ]
  },
  {
   "cell_type": "code",
   "execution_count": 9,
   "id": "administrative-beverage",
   "metadata": {},
   "outputs": [],
   "source": [
    "@njit\n",
    "def fast_fillna(array, values):\n",
    "    if np.isnan(array.sum()):\n",
    "        array = np.where(np.isnan(array), values, array)\n",
    "    return array"
   ]
  },
  {
   "cell_type": "code",
   "execution_count": 10,
   "id": "assumed-finding",
   "metadata": {},
   "outputs": [
    {
     "data": {
      "application/vnd.jupyter.widget-view+json": {
       "model_id": "431cd4fd2d3f41e3b5da6cac4626a179",
       "version_major": 2,
       "version_minor": 0
      },
      "text/plain": [
       "0it [00:00, ?it/s]"
      ]
     },
     "metadata": {},
     "output_type": "display_data"
    },
    {
     "name": "stdout",
     "output_type": "stream",
     "text": [
      "CPU times: user 3min 15s, sys: 2.7 s, total: 3min 18s\n",
      "Wall time: 3min 18s\n"
     ]
    }
   ],
   "source": [
    "%%time\n",
    "opt_th = 0.503\n",
    "tmp = np.zeros(len(features))\n",
    "for (test_df, prediction_df) in tqdm(iter_test):\n",
    "    if test_df['weight'].values[0] > 0:\n",
    "        x_tt = test_df.loc[:, features].values\n",
    "        x_tt[0, :] = fast_fillna(x_tt[0, :], tmp)\n",
    "        tmp = x_tt[0, :]\n",
    "        xgb_preds = xgb_predictor.predict(treelite_runtime.DMatrix(x_tt))\n",
    "#         xgb_preds = xgb_predictor.predict(treelite_runtime.Batch.from_npy2d(x_tt))\n",
    "        tf_preds = np.median(tf_predictor(x_tt))\n",
    "        prediction_df[\"action\"].values[0] = int((0.6 * tf_preds + 0.4 * xgb_preds) >= opt_th)\n",
    "    else:\n",
    "        prediction_df[\"action\"].values[0] = 0\n",
    "    env.predict(prediction_df)"
   ]
  },
  {
   "cell_type": "code",
   "execution_count": null,
   "id": "descending-medication",
   "metadata": {},
   "outputs": [],
   "source": []
  }
 ],
 "metadata": {
  "kernelspec": {
   "display_name": "Python 3",
   "language": "python",
   "name": "python3"
  },
  "language_info": {
   "codemirror_mode": {
    "name": "ipython",
    "version": 3
   },
   "file_extension": ".py",
   "mimetype": "text/x-python",
   "name": "python",
   "nbconvert_exporter": "python",
   "pygments_lexer": "ipython3",
   "version": "3.7.9"
  }
 },
 "nbformat": 4,
 "nbformat_minor": 5
}
